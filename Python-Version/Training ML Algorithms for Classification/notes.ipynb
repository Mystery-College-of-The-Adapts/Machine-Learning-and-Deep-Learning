{
 "cells": [
  {
   "cell_type": "markdown",
   "metadata": {},
   "source": [
    "#### Perceptron Binary Classifier\n",
    "$$\\boldsymbol{w} = \\begin{bmatrix}\n",
    "\\\\ w_{1}\n",
    "\\\\ .\n",
    "\\\\ .\n",
    "\\\\ .\n",
    "\\\\ w_{m}\n",
    "\\end{bmatrix} ,\n",
    "\\boldsymbol{x} = \\begin{bmatrix}\n",
    "\\\\ x_{1}\n",
    "\\\\ .\n",
    "\\\\ .\n",
    "\\\\ .\n",
    "\\\\ x_{m}\n",
    "\\end{bmatrix}$$\n",
    "\n",
    "\n",
    "$$z = w_{0}x_{0} + w_{1}x_{1} + w_{2}x_{2} + \\cdot \\cdot \\cdot + w_{m}x_{m} \n",
    "  = \\sum_{j=0}^{m} \\mathbf{w}_{j}\\mathbf{x}_{j} = \\mathbf{w}^{T}\\mathbf{x}$$\n",
    "  \n",
    "**The activation Function**\n",
    "\n",
    "In the perceptron algorithm, the activation is **unit step function** (**Heaviside step function**)\n",
    "$$\\phi(z) = \\left\\{\\begin{matrix} \n",
    "1\\quad  if\\ z\\geq \\Theta \n",
    "\\\\\n",
    "-1\\quad otherwise\n",
    "\\end{matrix}\\right.$$\n",
    "\n",
    "- Takes a linear combination of input values **X**\n",
    "- and a corresponding weight vector **w**\n",
    "- z is the net input\n",
    "\n",
    "If the activation of a particular sample $$x^{(i)}$$ is greater than a defined threshold $$\\theta$$, we predict class 1 and class -1\n",
    "\n",
    "  ![alt text](perceptronClass.JPG \"Perceptron Classification\")\n",
    "  \n",
    "  ![alt text](perceptron.JPG \"Perceptron Algorithm\")\n",
    "\n"
   ]
  },
  {
   "cell_type": "code",
   "execution_count": 1,
   "metadata": {
    "collapsed": true
   },
   "outputs": [],
   "source": [
    "import numpy as np"
   ]
  },
  {
   "cell_type": "markdown",
   "metadata": {},
   "source": [
    "#### Implementing a perceptron learning algorithm"
   ]
  },
  {
   "cell_type": "code",
   "execution_count": null,
   "metadata": {
    "collapsed": true
   },
   "outputs": [],
   "source": [
    "class Perceptron(object):\n",
    "    \"\"\"Perceptron Classifier.\n",
    "        Parameters\n",
    "        ================\n",
    "        eta: float -> Learning rate(between 0.0 and 1.0)\n",
    "        n_iter: int -> iterations over the training dataset.\n",
    "\n",
    "        Attributes\n",
    "        ============\n",
    "        W : 1-d array (vector) -> Weights after fitting\n",
    "        errors : list -> Number of misclassifications in every epoch\n",
    "    \n",
    "    \"\"\"\n",
    "    \n",
    "    def __init__(self, eta=0.01, n_iter = 10):\n",
    "        self.eta = eta\n",
    "        self.n_iter = n_iter\n",
    "        \n",
    "        \n",
    "    def fit(self, X, y):\n",
    "        \"\"\"Fit training data.\n",
    "        Parameters\n",
    "        ===========\n",
    "        \n",
    "        X : {array-like}, shape = [n_samples, n_features]\n",
    "            Training vectors\n",
    "            \n",
    "        y : array-like, shape = {n_samples}\n",
    "            Target values\n",
    "            \n",
    "        Returns\n",
    "        =========\n",
    "        self: object\n",
    "        \n",
    "        \"\"\"\n",
    "        \n",
    "        self.w = np.zeros(1 + X.shape[1])\n",
    "        self.errors = []\n",
    "        \n",
    "        for _ in range(self.n_iter):\n",
    "            error = 0\n",
    "            for xi, target in zip(X,y):\n",
    "                update = self.eta * (target - self.predict(xi))\n",
    "                self.w[1:] += update * xi\n",
    "                self.w[0] += update\n",
    "                error += int(update !== 0.0)\n",
    "                \n",
    "            self.errors.append(error)\n",
    "        return self\n",
    "    \n",
    "    def net_input(self, X):\n",
    "        \"\"\"Calculate net input\"\"\"\n",
    "        return np.dot(X, self.w[1:] + self.w[0])\n",
    "    \n",
    "    def predict(self, X):\n",
    "        \"\"\"Return class label after unit step\"\"\"\n",
    "        return np.where(self.net_input(X) >= 0.0, 1, -1)"
   ]
  }
 ],
 "metadata": {
  "kernelspec": {
   "display_name": "Python [conda root]",
   "language": "python",
   "name": "conda-root-py"
  },
  "language_info": {
   "codemirror_mode": {
    "name": "ipython",
    "version": 2
   },
   "file_extension": ".py",
   "mimetype": "text/x-python",
   "name": "python",
   "nbconvert_exporter": "python",
   "pygments_lexer": "ipython2",
   "version": "2.7.12"
  }
 },
 "nbformat": 4,
 "nbformat_minor": 1
}
