{
 "cells": [
  {
   "cell_type": "markdown",
   "metadata": {},
   "source": [
    "## Unsupervised dimensionality reduction via principal component analysis\n",
    "- Similar to **feature selection**, we can use ** feature extraction** to reduce the number of features in a dataset.\n",
    "- Feature extraction is used to improve computational efficiency but can also help to reduce the **curse of dimensionality**\n",
    "\n",
    "### Principal Component Analysis (PCA)\n",
    "- An unsupervised linear transformation technique that is widely used across different fields, most prominently for dimensionality reduction\n",
    "- Other popular applications of PCA:\n",
    "    - Exploratory data analyses and de-noising of signals in stock market trading\n",
    "    - Analysis of genome data and gene expression levels\n",
    "    - Identify patterns in data based on correlation between features.\n",
    "    \n",
    "- In a nutshell, PCA aims to find the directions of maximum variance in high-dimensional data and projects it onto a new subspace with equal or fewer dimensions than the original one.\n",
    "![alt text](pca.JPG)"
   ]
  },
  {
   "cell_type": "markdown",
   "metadata": {
    "collapsed": true
   },
   "source": [
    "PCA explained with Wine Dataset"
   ]
  },
  {
   "cell_type": "code",
   "execution_count": 1,
   "metadata": {
    "collapsed": true
   },
   "outputs": [],
   "source": [
    "import pandas as pd"
   ]
  },
  {
   "cell_type": "code",
   "execution_count": 12,
   "metadata": {
    "collapsed": false
   },
   "outputs": [
    {
     "name": "stdout",
     "output_type": "stream",
     "text": [
      "Populating the interactive namespace from numpy and matplotlib\n"
     ]
    }
   ],
   "source": [
    "%pylab inline"
   ]
  },
  {
   "cell_type": "code",
   "execution_count": 4,
   "metadata": {
    "collapsed": false
   },
   "outputs": [],
   "source": [
    "df_wine = pd.read_csv('https://archive.ics.uci.edu/ml/machine-learning-databases/wine/wine.data', \n",
    "                      header=None)"
   ]
  },
  {
   "cell_type": "code",
   "execution_count": 6,
   "metadata": {
    "collapsed": false
   },
   "outputs": [],
   "source": [
    "# Cross Validation\n",
    "from sklearn.model_selection import train_test_split\n",
    "from sklearn.preprocessing import StandardScaler\n"
   ]
  },
  {
   "cell_type": "code",
   "execution_count": 7,
   "metadata": {
    "collapsed": false
   },
   "outputs": [
    {
     "data": {
      "text/html": [
       "<div>\n",
       "<table border=\"1\" class=\"dataframe\">\n",
       "  <thead>\n",
       "    <tr style=\"text-align: right;\">\n",
       "      <th></th>\n",
       "      <th>0</th>\n",
       "      <th>1</th>\n",
       "      <th>2</th>\n",
       "      <th>3</th>\n",
       "      <th>4</th>\n",
       "      <th>5</th>\n",
       "      <th>6</th>\n",
       "      <th>7</th>\n",
       "      <th>8</th>\n",
       "      <th>9</th>\n",
       "      <th>10</th>\n",
       "      <th>11</th>\n",
       "      <th>12</th>\n",
       "      <th>13</th>\n",
       "    </tr>\n",
       "  </thead>\n",
       "  <tbody>\n",
       "    <tr>\n",
       "      <th>0</th>\n",
       "      <td>1</td>\n",
       "      <td>14.23</td>\n",
       "      <td>1.71</td>\n",
       "      <td>2.43</td>\n",
       "      <td>15.6</td>\n",
       "      <td>127</td>\n",
       "      <td>2.80</td>\n",
       "      <td>3.06</td>\n",
       "      <td>0.28</td>\n",
       "      <td>2.29</td>\n",
       "      <td>5.64</td>\n",
       "      <td>1.04</td>\n",
       "      <td>3.92</td>\n",
       "      <td>1065</td>\n",
       "    </tr>\n",
       "    <tr>\n",
       "      <th>1</th>\n",
       "      <td>1</td>\n",
       "      <td>13.20</td>\n",
       "      <td>1.78</td>\n",
       "      <td>2.14</td>\n",
       "      <td>11.2</td>\n",
       "      <td>100</td>\n",
       "      <td>2.65</td>\n",
       "      <td>2.76</td>\n",
       "      <td>0.26</td>\n",
       "      <td>1.28</td>\n",
       "      <td>4.38</td>\n",
       "      <td>1.05</td>\n",
       "      <td>3.40</td>\n",
       "      <td>1050</td>\n",
       "    </tr>\n",
       "    <tr>\n",
       "      <th>2</th>\n",
       "      <td>1</td>\n",
       "      <td>13.16</td>\n",
       "      <td>2.36</td>\n",
       "      <td>2.67</td>\n",
       "      <td>18.6</td>\n",
       "      <td>101</td>\n",
       "      <td>2.80</td>\n",
       "      <td>3.24</td>\n",
       "      <td>0.30</td>\n",
       "      <td>2.81</td>\n",
       "      <td>5.68</td>\n",
       "      <td>1.03</td>\n",
       "      <td>3.17</td>\n",
       "      <td>1185</td>\n",
       "    </tr>\n",
       "    <tr>\n",
       "      <th>3</th>\n",
       "      <td>1</td>\n",
       "      <td>14.37</td>\n",
       "      <td>1.95</td>\n",
       "      <td>2.50</td>\n",
       "      <td>16.8</td>\n",
       "      <td>113</td>\n",
       "      <td>3.85</td>\n",
       "      <td>3.49</td>\n",
       "      <td>0.24</td>\n",
       "      <td>2.18</td>\n",
       "      <td>7.80</td>\n",
       "      <td>0.86</td>\n",
       "      <td>3.45</td>\n",
       "      <td>1480</td>\n",
       "    </tr>\n",
       "    <tr>\n",
       "      <th>4</th>\n",
       "      <td>1</td>\n",
       "      <td>13.24</td>\n",
       "      <td>2.59</td>\n",
       "      <td>2.87</td>\n",
       "      <td>21.0</td>\n",
       "      <td>118</td>\n",
       "      <td>2.80</td>\n",
       "      <td>2.69</td>\n",
       "      <td>0.39</td>\n",
       "      <td>1.82</td>\n",
       "      <td>4.32</td>\n",
       "      <td>1.04</td>\n",
       "      <td>2.93</td>\n",
       "      <td>735</td>\n",
       "    </tr>\n",
       "  </tbody>\n",
       "</table>\n",
       "</div>"
      ],
      "text/plain": [
       "   0      1     2     3     4    5     6     7     8     9     10    11    12  \\\n",
       "0   1  14.23  1.71  2.43  15.6  127  2.80  3.06  0.28  2.29  5.64  1.04  3.92   \n",
       "1   1  13.20  1.78  2.14  11.2  100  2.65  2.76  0.26  1.28  4.38  1.05  3.40   \n",
       "2   1  13.16  2.36  2.67  18.6  101  2.80  3.24  0.30  2.81  5.68  1.03  3.17   \n",
       "3   1  14.37  1.95  2.50  16.8  113  3.85  3.49  0.24  2.18  7.80  0.86  3.45   \n",
       "4   1  13.24  2.59  2.87  21.0  118  2.80  2.69  0.39  1.82  4.32  1.04  2.93   \n",
       "\n",
       "     13  \n",
       "0  1065  \n",
       "1  1050  \n",
       "2  1185  \n",
       "3  1480  \n",
       "4   735  "
      ]
     },
     "execution_count": 7,
     "metadata": {},
     "output_type": "execute_result"
    }
   ],
   "source": [
    "df_wine.head()"
   ]
  },
  {
   "cell_type": "code",
   "execution_count": 8,
   "metadata": {
    "collapsed": true
   },
   "outputs": [],
   "source": [
    "X = df_wine.iloc[:, 1:].values\n",
    "y = df_wine.iloc[:, 0].values"
   ]
  },
  {
   "cell_type": "code",
   "execution_count": 9,
   "metadata": {
    "collapsed": true
   },
   "outputs": [],
   "source": [
    "X_train, X_test, y_train, y_test = train_test_split(X, y, test_size=0.3,\n",
    "                                                   random_state=0)"
   ]
  },
  {
   "cell_type": "code",
   "execution_count": 10,
   "metadata": {
    "collapsed": true
   },
   "outputs": [],
   "source": [
    "sc = StandardScaler()"
   ]
  },
  {
   "cell_type": "code",
   "execution_count": 11,
   "metadata": {
    "collapsed": true
   },
   "outputs": [],
   "source": [
    "X_train_std = sc.fit_transform(X_train)\n",
    "X_test_std = sc.fit_transform(X_test)"
   ]
  },
  {
   "cell_type": "markdown",
   "metadata": {},
   "source": [
    "**COnstructing the covariance matrix**\n",
    "- The symmetric dxd dimensional covariance matrix, where d is the number of dimensions in the dataset, stores the pairwise covariances between the different features.\n",
    "- The covariance between two features $x_{j}$ and $x_{k}$ is given by:\n",
    "$${\\color{Blue} \\sigma _{jk} = \\frac{1}{n}\\sum_{i=1}^{n}\\left (x_{j}^{(i)}-\\mu _{j} \\right)\\left (x_{k}^{(i)}-\\mu _{k} \\right)}$$\n",
    "- The sample means are zero after standardization\n",
    "- Positive covariance indicates that the features increase or decrease together\n",
    "- Negative covariance indicates that the features vary in opposite directions.\n",
    "- $\\sum $ stands for the covariance matrix and not the sum.\n",
    "- For e.g, a covariance matrix of three features would like\n",
    "$$\\Sigma = \\begin{bmatrix}\n",
    " \\sigma _{1}^{1} & \\sigma _{12}  & \\sigma _{13} \\\\\n",
    " \\sigma _{21} & \\sigma _{2}^{2} & \\sigma _{23} \\\\ \n",
    " \\sigma _{31} & \\sigma _{32} & \\sigma _{3}^{3}\n",
    "\\end{bmatrix}$$\n",
    "- **The Eigenvectors represent the Principal Components.**\n",
    "- **The Eigenvalues define their magnitude.**\n",
    "- In the case of the Wine dataset, we get **13 eigenvectors** and **eigenvalues** from the 13x13 covariance matrix\n",
    "- Eigenvalue v satisfies:\n",
    "$$\\Sigma \\textbf{v}= \\lambda \\textbf{v}$$"
   ]
  },
  {
   "cell_type": "code",
   "execution_count": 13,
   "metadata": {
    "collapsed": true
   },
   "outputs": [],
   "source": [
    "cov_mat = np.cov(X_train_std.T)"
   ]
  },
  {
   "cell_type": "code",
   "execution_count": 14,
   "metadata": {
    "collapsed": true
   },
   "outputs": [],
   "source": [
    "eigen_vals, eigen_vecs = np.linalg.eig(cov_mat)"
   ]
  },
  {
   "cell_type": "code",
   "execution_count": 19,
   "metadata": {
    "collapsed": false
   },
   "outputs": [
    {
     "name": "stdout",
     "output_type": "stream",
     "text": [
      "Eigen Values:\n",
      "\n",
      "[ 4.8923083   2.46635032  1.42809973  1.01233462  0.84906459  0.60181514\n",
      "  0.52251546  0.08414846  0.33051429  0.29595018  0.16831254  0.21432212\n",
      "  0.2399553 ]\n"
     ]
    }
   ],
   "source": [
    "print 'Eigen Values:\\n\\n', eigen_vals"
   ]
  },
  {
   "cell_type": "code",
   "execution_count": 20,
   "metadata": {
    "collapsed": false
   },
   "outputs": [
    {
     "name": "stdout",
     "output_type": "stream",
     "text": [
      "Eigen Vectors:\n",
      "\n",
      "[[  1.46698114e-01   5.04170789e-01  -1.17235150e-01   2.06254611e-01\n",
      "   -1.87815947e-01  -1.48851318e-01  -1.79263662e-01  -5.54687162e-02\n",
      "   -4.03054922e-01  -4.17197583e-01   2.75660860e-01   4.03567189e-01\n",
      "    4.13320786e-04]\n",
      " [ -2.42245536e-01   2.42168894e-01   1.49946576e-01   1.30489298e-01\n",
      "    5.68639776e-01  -2.69052764e-01  -5.92636731e-01   3.32731614e-02\n",
      "   -1.01833706e-01   2.17101488e-01  -8.13845005e-02  -1.52474999e-01\n",
      "   -8.78560762e-02]\n",
      " [ -2.99344215e-02   2.86984836e-01   6.56394387e-01   1.51536318e-02\n",
      "   -2.99209426e-01  -9.33386061e-02   6.07334578e-02  -1.00618575e-01\n",
      "    3.51841423e-01   1.28549846e-01  -1.29751275e-02   1.68376064e-01\n",
      "   -4.52518598e-01]\n",
      " [ -2.55190023e-01  -6.46871827e-02   5.84282337e-01  -9.04220851e-02\n",
      "   -4.12499478e-02  -1.01342392e-01   2.50323869e-01   5.61658566e-02\n",
      "   -5.00457282e-01   4.73344124e-02   9.89088030e-02  -6.70902926e-02\n",
      "    4.86169765e-01]\n",
      " [  1.20797723e-01   2.29953850e-01   8.22627466e-02  -8.39128346e-01\n",
      "   -2.71971315e-02   1.12567350e-01  -2.85240559e-01   9.58423947e-02\n",
      "    8.37391743e-02  -2.78918776e-01  -9.59297663e-02  -1.02396856e-01\n",
      "    1.14764951e-01]\n",
      " [  3.89344551e-01   9.36399132e-02   1.80804417e-01   1.93179478e-01\n",
      "    1.40645426e-01   1.22248798e-02   5.31455344e-02  -4.21265116e-01\n",
      "    1.35111456e-01  -2.80985650e-01   2.83897644e-01  -6.18600153e-01\n",
      "    9.45645138e-02]\n",
      " [  4.23264856e-01   1.08862204e-02   1.42959330e-01   1.40459548e-01\n",
      "    9.26866486e-02  -5.50345182e-02   7.98994076e-02   8.47224703e-01\n",
      "    3.36016514e-03  -3.91442963e-02   1.16729207e-01  -1.39680277e-01\n",
      "   -1.00444099e-01]\n",
      " [ -3.06349555e-01   1.87021637e-02   1.72234753e-01   3.37332618e-01\n",
      "   -8.58416771e-02   6.95340883e-01  -2.97371718e-01   1.66256803e-01\n",
      "    1.90120758e-01  -2.78622194e-01  -3.96566280e-02   1.63323514e-03\n",
      "    2.00128778e-01]\n",
      " [  3.05722194e-01   3.04035180e-02   1.58362102e-01  -1.14752900e-01\n",
      "    5.65105241e-01   4.98354410e-01   2.02519133e-01  -1.66197468e-01\n",
      "   -1.76029939e-01   1.48539457e-01   8.60602743e-02   3.88568490e-01\n",
      "   -1.39942067e-01]\n",
      " [ -9.86919131e-02   5.45270809e-01  -1.42421708e-01   7.87857057e-02\n",
      "    1.32346052e-02   1.59452160e-01   3.97364107e-01   3.96173606e-02\n",
      "   -2.14930670e-01  -4.10240865e-03  -5.71651893e-01  -3.08345904e-01\n",
      "   -1.15349466e-01]\n",
      " [  3.00325353e-01  -2.79243218e-01   9.32387182e-02   2.41740256e-02\n",
      "   -3.72610811e-01   2.16515349e-01  -3.84654748e-01  -1.05383688e-01\n",
      "   -5.17259438e-01   1.97814118e-01  -1.98844532e-01  -2.00456386e-01\n",
      "   -3.02254353e-01]\n",
      " [  3.68211538e-01  -1.74365000e-01   1.96077407e-01   1.84028641e-01\n",
      "    8.93796748e-02  -2.35172361e-01  -8.62903341e-02  -9.95055559e-02\n",
      "    1.36456039e-01  -2.38138151e-01  -6.50869713e-01   2.84100327e-01\n",
      "    3.18414303e-01]\n",
      " [  2.92597130e-01   3.63154608e-01  -9.73171134e-02   5.67677845e-02\n",
      "   -2.17529485e-01   1.05621383e-01  -1.30298291e-01  -1.60661776e-02\n",
      "    1.67758429e-01   6.37350206e-01   7.12377082e-02   3.75546771e-02\n",
      "    5.03247839e-01]]\n"
     ]
    }
   ],
   "source": [
    "print 'Eigen Vectors:\\n\\n', eigen_vecs"
   ]
  },
  {
   "cell_type": "markdown",
   "metadata": {},
   "source": [
    "**Variance Explained Ratio for each of the EigenValues is given by:**\n",
    "$$\\frac{\\lambda _{j}}{\\sum_{j=1}^{d}\\lambda_{j}}$$"
   ]
  },
  {
   "cell_type": "code",
   "execution_count": 21,
   "metadata": {
    "collapsed": true
   },
   "outputs": [],
   "source": [
    "tot = sum(eigen_vals)"
   ]
  },
  {
   "cell_type": "code",
   "execution_count": 22,
   "metadata": {
    "collapsed": true
   },
   "outputs": [],
   "source": [
    "var_exp = [(i / tot) for i in sorted(eigen_vals, reverse=True)]"
   ]
  },
  {
   "cell_type": "code",
   "execution_count": 23,
   "metadata": {
    "collapsed": true
   },
   "outputs": [],
   "source": [
    "cum_var_exp = np.cumsum(var_exp)"
   ]
  },
  {
   "cell_type": "code",
   "execution_count": 24,
   "metadata": {
    "collapsed": false
   },
   "outputs": [
    {
     "data": {
      "image/png": "[encoded data removed]",
      "text/plain": [
       "<matplotlib.figure.Figure at 0xc60cc50>"
      ]
     },
     "metadata": {},
     "output_type": "display_data"
    }
   ],
   "source": [
    "plt.bar(range(1,14), var_exp, alpha=0.5, align='center', \n",
    "        label='individual explained variance')\n",
    "plt.step(range(1,14), cum_var_exp, where='mid', \n",
    "        label='Cumulative explained variance')\n",
    "plt.ylabel('Explained variance ratio')\n",
    "plt.xlabel('Principal components')\n",
    "plt.legend(loc='best')\n",
    "plt.show()"
   ]
  },
  {
   "cell_type": "code",
   "execution_count": 25,
   "metadata": {
    "collapsed": true
   },
   "outputs": [],
   "source": [
    "import seaborn as sns\n"
   ]
  },
  {
   "cell_type": "code",
   "execution_count": 46,
   "metadata": {
    "collapsed": false
   },
   "outputs": [
    {
     "data": {
      "text/plain": [
       "<matplotlib.text.Text at 0x10ae6fd0>"
      ]
     },
     "execution_count": 46,
     "metadata": {},
     "output_type": "execute_result"
    },
    {
     "data": {
      "image/png": "[encoded data removed]",
      "text/plain": [
       "<matplotlib.figure.Figure at 0xe747d30>"
      ]
     },
     "metadata": {},
     "output_type": "display_data"
    }
   ],
   "source": [
    "sns.set_style(\"whitegrid\")\n",
    "ax = sns.barplot(x=range(0,13), y=var_exp,)\n",
    "ax.step(x=range(0,13), y=cum_var_exp, where='mid')\n",
    "ax.set_ylabel('Explained variance ratio')\n",
    "ax.set_xlabel('Principal components')"
   ]
  },
  {
   "cell_type": "code",
   "execution_count": null,
   "metadata": {
    "collapsed": true
   },
   "outputs": [],
   "source": []
  }
 ],
 "metadata": {
  "anaconda-cloud": {},
  "kernelspec": {
   "display_name": "Python [conda root]",
   "language": "python",
   "name": "conda-root-py"
  },
  "language_info": {
   "codemirror_mode": {
    "name": "ipython",
    "version": 2
   },
   "file_extension": ".py",
   "mimetype": "text/x-python",
   "name": "python",
   "nbconvert_exporter": "python",
   "pygments_lexer": "ipython2",
   "version": "2.7.12"
  }
 },
 "nbformat": 4,
 "nbformat_minor": 1
}
