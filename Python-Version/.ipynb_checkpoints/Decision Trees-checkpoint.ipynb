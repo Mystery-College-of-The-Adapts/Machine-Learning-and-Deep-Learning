{
 "cells": [
  {
   "cell_type": "markdown",
   "metadata": {},
   "source": [
    "## Decision Tree - Classification\n",
    "- Decision tree breaks down a dataset into smaller and smaller subsets\n",
    "- The core algorithm for building decision trees is called **ID3** which employs a top-down, greedy search through the space of possible branches with no backtracking.\n",
    "- ID3 uses **Entropy and Information Gain** to construct a decision tree.\n",
    "\n",
    "**Entropy**\n",
    "- ID3 uses entropy to calculate the homogeneity of a sample.\n",
    "- If the sample is completely homogeneous the entropy is zero\n",
    "- If the sample is an equally divided it has entropy of one\n",
    "\n"
   ]
  },
  {
   "cell_type": "code",
   "execution_count": null,
   "metadata": {
    "collapsed": true
   },
   "outputs": [],
   "source": []
  }
 ],
 "metadata": {
  "anaconda-cloud": {},
  "kernelspec": {
   "display_name": "Python [conda root]",
   "language": "python",
   "name": "conda-root-py"
  },
  "language_info": {
   "codemirror_mode": {
    "name": "ipython",
    "version": 2
   },
   "file_extension": ".py",
   "mimetype": "text/x-python",
   "name": "python",
   "nbconvert_exporter": "python",
   "pygments_lexer": "ipython2",
   "version": "2.7.12"
  }
 },
 "nbformat": 4,
 "nbformat_minor": 1
}
