{
 "cells": [
  {
   "cell_type": "markdown",
   "metadata": {},
   "source": [
    "Topics\n",
    "--------\n",
    "1. TensorFlow Graphs\n",
    "2. Adding Inputs with Placeholder nodes\n",
    "3. Variables\n",
    "4. Organizing your graph with name scopes\n",
    "\n",
    "\n",
    "## 1. TensorFlow graphs\n",
    "\n",
    "In the previous tutorial, we've only referenced *the graph* as some sort of abstract, and we havent questioned how Operations are automatically attached to a graph when we use it. \n",
    "\n",
    "Now let's take a look at the [TensorFlow Graph Object](https://www.tensorflow.org/versions/master/api_docs/python/framework/#Graph), learn how to create more of them, use multiple graphs in conjunction with one another."
   ]
  },
  {
   "cell_type": "code",
   "execution_count": 1,
   "metadata": {
    "collapsed": true
   },
   "outputs": [],
   "source": [
    "import tensorflow as tf"
   ]
  },
  {
   "cell_type": "code",
   "execution_count": 2,
   "metadata": {
    "collapsed": true
   },
   "outputs": [],
   "source": [
    "# Create a new graph:\n",
    "g = tf.Graph()"
   ]
  },
  {
   "cell_type": "markdown",
   "metadata": {},
   "source": [
    "Once we have our Graph initialized, we can add Operations to it by using the ```python Graph.as_default()``` method to access its context manager."
   ]
  },
  {
   "cell_type": "code",
   "execution_count": 3,
   "metadata": {
    "collapsed": true
   },
   "outputs": [],
   "source": [
    "with g.as_default():\n",
    "    # Create operations as usual; they will be added to graph 'g'\n",
    "    a = tf.mul(2, 5)"
   ]
  },
  {
   "cell_type": "markdown",
   "metadata": {},
   "source": [
    "We don't need to specify the graph we'd like to add our Ops. As a convenience, TensorFlow automatically creates a *Graph* when the library is  loaded and assigns it to be the default. Thus, any operations, tensors, etc. define outside of a ```python Graph.as_default()``` context manager will automatically be placed in the default graph:"
   ]
  },
  {
   "cell_type": "code",
   "execution_count": 4,
   "metadata": {
    "collapsed": true
   },
   "outputs": [],
   "source": [
    "# Placed in the default graph\n",
    "in_default_graph = tf.add(2, 3)\n",
    "\n",
    "# Placed in graph 'g'\n",
    "with g.as_default():\n",
    "    in_graph_g = tf.mul(2, 3)\n",
    "    \n",
    "# We are no longer in the 'with' block, so this is placed in the default \n",
    "# graph\n",
    "also_in_default_graph = tf.sub(10, 5)\n"
   ]
  },
  {
   "cell_type": "markdown",
   "metadata": {},
   "source": [
    "If you'd like to get a handle to the default graph, use the ```python tf.get_default_graph()``` function: ```default_graph = tf.get_default_graph()```\n",
    "\n",
    "- In most TensorFlow programs, we only ever deal with the default graph. However, creating multiple graphs can be useful if you are defining multiple models that do not have interdependencies. \n",
    "\n",
    "- When defining multiple graphs in one file, it's recommended to either not use the default graph or immediately assign to handle to it. This ensures that nodes are added to each group in a uniform manner:\n",
    "\n",
    "\n",
    "\n",
    "**Correct - Create new graphs, ignore default graph:**\n",
    "```python\n",
    "import tensorflow as tf\n",
    "\n",
    "g1 = tf.Graph()\n",
    "g2 = tf.Graph()\n",
    "\n",
    "with g1.as_default():\n",
    "   # Define and Do something with g1 operations, tensors.....\n",
    "   \n",
    "with g2.as_default():\n",
    "   # Define and Do something with g2 operations, tensors.....\n",
    "```\n",
    "\n",
    "\n",
    "**Correct - Get handle to default graph:**\n",
    "```python\n",
    "import tensorflow as tf\n",
    "\n",
    "g1 = tf.get_default_graph()\n",
    "g2 = tf.Graph()\n",
    "\n",
    "with g1.as_default():\n",
    "   # Define and Do something with g1 operations, tensors.....\n",
    "   \n",
    "with g2.as_default():\n",
    "   # Define and Do something with g2 operations, tensors.....\n",
    "```\n",
    "\n",
    "   \n",
    "   \n"
   ]
  },
  {
   "cell_type": "markdown",
   "metadata": {},
   "source": [
    "## 2. Adding Inputs with Placeholder nodes\n",
    "\n",
    "Placeholders act as if they are Tensor objects, but they do not have their values specified when created. Instead, they hold the place for a Tensor that will be fed at runtime, in effect becoming an \"input\" node."
   ]
  },
  {
   "cell_type": "code",
   "execution_count": 5,
   "metadata": {
    "collapsed": true
   },
   "outputs": [],
   "source": [
    "import numpy as np"
   ]
  },
  {
   "cell_type": "code",
   "execution_count": 6,
   "metadata": {
    "collapsed": true
   },
   "outputs": [],
   "source": [
    "# Creates a placeholder vector of length 2 with data type int32\n",
    "a = tf.placeholder(tf.int32, shape=[2], name=\"my_input\")\n",
    "\n",
    "# Use the placeholder as if it were any other Tensor object\n",
    "b = tf.reduce_prod(a, name=\"prod_b\")\n",
    "c = tf.reduce_sum(a, name=\"sum_c\")\n",
    "\n",
    "# Finish off the graph\n",
    "d = tf.add(b, c, name=\"add_d\")"
   ]
  },
  {
   "cell_type": "markdown",
   "metadata": {},
   "source": [
    "In order to actually give a value to the placeholder, we'll use the *feed_dict* parameter in *Session.run()*. \n",
    "\n",
    "**The Feed dictionary:**\n",
    "The parameter *feed_dict* is used to override *Tensor* values in the graph, and it excepts a Python dictionary object as input. \n",
    "- The keys in the dict are handles to Tensor objects that should be overridden\n",
    "- The values can be numbers, strings, lists, or NumPy arrays."
   ]
  },
  {
   "cell_type": "code",
   "execution_count": 8,
   "metadata": {
    "collapsed": false
   },
   "outputs": [],
   "source": [
    "# Open a TensorFlow Session\n",
    "with tf.Session() as sess:\n",
    "    \n",
    "    # Create a dictionary to pass into 'feed_dict'\n",
    "    # Key: 'a', the handle to the placeholder's output Tensor\n",
    "    # Value: A vector with value [5, 3] and int32 data type\n",
    "    \n",
    "    input_dict = {a: np.array([5, 3], dtype=np.int32)}\n",
    "    \n",
    "    # Fetch the value of 'd' feeding the values of 'input_vector' into 'a'\n",
    "    sess.run(d, feed_dict=input_dict)"
   ]
  }
 ],
 "metadata": {
  "anaconda-cloud": {},
  "kernelspec": {
   "display_name": "Python [conda env:tensorflow3]",
   "language": "python",
   "name": "conda-env-tensorflow3-py"
  },
  "language_info": {
   "codemirror_mode": {
    "name": "ipython",
    "version": 3
   },
   "file_extension": ".py",
   "mimetype": "text/x-python",
   "name": "python",
   "nbconvert_exporter": "python",
   "pygments_lexer": "ipython3",
   "version": "3.5.2"
  }
 },
 "nbformat": 4,
 "nbformat_minor": 1
}
