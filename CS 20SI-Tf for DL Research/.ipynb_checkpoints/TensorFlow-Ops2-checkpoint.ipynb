{
 "cells": [
  {
   "cell_type": "markdown",
   "metadata": {},
   "source": [
    "Topics\n",
    "--------\n",
    "1. Basic Operations\n",
    "2. Tensor types\n",
    "3. Project speed dating\n",
    "4. Placeholders and feeding inputs\n",
    "5. Lazy loading\n",
    "\n",
    "\n",
    "\n",
    "## A. Fun with TensorBoard\n",
    "In Tensorflow, you collectively call constants, variables, operators as ops. TensorFlow is not just a software library, but a suite of softwares that include TensorFlow, TensorBoard, and TensorServing. To make the most out of TensorFlow, we should know how to use all of the above in conjunction with one another.\n",
    "\n",
    "According to [Google's TensorFlow Team](https://www.tensorflow.org/how_tos/summaries_and_tensorboard/):\n",
    "> The computations you'll use TensorFlow for - like training a massive deep neural network - can be complex and confusing. To make it easier to understand, debug, and optimize TensorFlow programs, we've included a suite of visualization tools called TensorBoard. You can use TensorBoard to visualize your TensorFlow graph, plot quantitative metrics about the execution of your graph, and show additional data like images that pass through it. When TensorBoard is fully configured, it looks like this:\n",
    "![](assets/tensorboard.png)\n",
    "\n",
    "\n",
    "When a user perform certain operations in a TensorBoard-activated TensorFlow program, these operations are exported to an event file. \n",
    "\n",
    "TensorBoard is able to convert these event files to graphs that can give insight into a model's behavior.\n",
    "\n",
    "Learning to use TensorBoard early and often make working with TensorFlow that much more enjoyable and productive.\n",
    "\n",
    "Let's write our first TensorFlow program and visualize it with TensorBoard.\n"
   ]
  },
  {
   "cell_type": "code",
   "execution_count": 1,
   "metadata": {
    "collapsed": true
   },
   "outputs": [],
   "source": [
    "import tensorflow as tf"
   ]
  },
  {
   "cell_type": "code",
   "execution_count": 2,
   "metadata": {
    "collapsed": false
   },
   "outputs": [
    {
     "name": "stdout",
     "output_type": "stream",
     "text": [
      "5\n"
     ]
    }
   ],
   "source": [
    "a = tf.constant(2)\n",
    "b = tf.constant(3)\n",
    "x = tf.add(a, b)\n",
    "\n",
    "with tf.Session() as sess:\n",
    "    print sess.run(x)"
   ]
  },
  {
   "cell_type": "markdown",
   "metadata": {},
   "source": [
    "To activate TensorBoard on this program, add this line after building the graph, right before running the train loop. \n",
    "```python\n",
    "writer = tf.summary.FileWriter(logs_dir, sess.graph)\n",
    "```\n",
    "\n",
    "The line above creates a writer object to write operations to the event file, stored in the folder logs_dir. You can choose logs_dir to be something such as './graphs'.\n",
    "\n",
    "\n",
    "**Visualize it with TensorBoard**"
   ]
  },
  {
   "cell_type": "code",
   "execution_count": 3,
   "metadata": {
    "collapsed": false
   },
   "outputs": [
    {
     "name": "stdout",
     "output_type": "stream",
     "text": [
      "5\n"
     ]
    }
   ],
   "source": [
    "with tf.Session() as sess:\n",
    "    # add this line to use TensorBoard.\n",
    "    writer = tf.train.SummaryWriter('./graphs', sess.graph)\n",
    "    print sess.run(x)\n",
    "    \n",
    "    \n",
    "# Closet the writer when you are done using it\n",
    "writer.close()"
   ]
  },
  {
   "cell_type": "markdown",
   "metadata": {},
   "source": [
    "Next, go to terminal, run the program. Make sure that your present working directory is the same as where your python file or jupyter notebook is located at.\n",
    "\n",
    "```bash\n",
    "$ tensorboard --logdir=\"./graphs\"\n",
    "```"
   ]
  },
  {
   "cell_type": "markdown",
   "metadata": {},
   "source": [
    "Open your browser and go to http://localhost:6006/(or the linkyou get back after running tensorboard command). Go to the tab graph and you will see something like this:\n",
    "\n",
    "![](assets/TensorBoard.png)\n",
    "\n",
    "Go to the Graph tab and you will see a graph with 3 nodes \n",
    "![](assets/Tgraph1.png)\n",
    "\n",
    "```python\n",
    "a = tf.constant(2)\n",
    "b = tf.constant(3)\n",
    "x = tf.add(a, b)\n",
    "```\n",
    "\n",
    "**Const** and **Const_1** corresponds to a and b, while the node **Add** corresponds to x. The names we give them (a, b, and x) are for us to access them when we need. They mean nothing for the internal TensorFlow. To make TensorBoard display the names of your ops, you have to explicitly name them."
   ]
  },
  {
   "cell_type": "code",
   "execution_count": 4,
   "metadata": {
    "collapsed": true
   },
   "outputs": [],
   "source": [
    "a = tf.constant([2, 2], name=\"a\")\n",
    "b = tf.constant([3, 6], name=\"b\")\n",
    "x = tf.add(a, b, name = \"add\")"
   ]
  },
  {
   "cell_type": "markdown",
   "metadata": {},
   "source": [
    "Now if you run TensorBoard again, you get the following:"
   ]
  },
  {
   "cell_type": "code",
   "execution_count": 5,
   "metadata": {
    "collapsed": false
   },
   "outputs": [
    {
     "name": "stdout",
     "output_type": "stream",
     "text": [
      "[5 8]\n"
     ]
    }
   ],
   "source": [
    "with tf.Session() as sess:\n",
    "    # add this line to use TensorBoard.\n",
    "    writer = tf.train.SummaryWriter('./graphs', sess.graph)\n",
    "    print sess.run(x)\n",
    "    \n",
    "    \n",
    "# Closet the writer when you are done using it\n",
    "writer.close()"
   ]
  },
  {
   "cell_type": "markdown",
   "metadata": {},
   "source": [
    "![](assets/Tgraph2.png)\n",
    "\n",
    "\n",
    "The graph itself defines the ops and dependencies, but not displays the values. It only cares about the values when we run the session with some values to fetch in mind.\n",
    "\n",
    "\n",
    "## B. Constant Types\n",
    "\n",
    "**You can create constants of scalar or tensor values.**\n",
    "```python\n",
    "tf.constant(value, dtype=None, shape=None, name='Const', verify_shape=False)\n",
    "```"
   ]
  },
  {
   "cell_type": "code",
   "execution_count": 6,
   "metadata": {
    "collapsed": true
   },
   "outputs": [],
   "source": [
    "# constant of 1d tensor (vector)\n",
    "a = tf.constant([2, 2], name=\"vector\")\n",
    "\n",
    "# constant of 2x2 tensor (matrix)\n",
    "b = tf.constant([[0, 1], [2, 3]], name=\"b\")"
   ]
  },
  {
   "cell_type": "markdown",
   "metadata": {},
   "source": [
    "**You can create tensors whose elements are of a specific value**\n",
    "\n",
    "Note the similarity to numpy.zeros, numpy.zeros_like, numpy.ones, numpy.ones_like.\n",
    "\n",
    "```python\n",
    "tf.zeros(shape, dtype=tf.float32, name=None)\n",
    "```\n",
    "- Creates a tensor with all elements set to zero.\n",
    "- This operation returns a tensor of type *dtype* with shape *shape* and all elements are set to zero.\n",
    "\n",
    "**Args:**\n",
    "- shape: Either a list of integers, or a 1-D tensor of type int32\n",
    "- dtype: The type of an element in the resulting tensor\n",
    "- name: A name of the operation (optional)\n",
    "\n",
    "**Returns:**\n",
    "- A tensor with all elements set to zero.\n",
    "\n",
    "Example:"
   ]
  },
  {
   "cell_type": "code",
   "execution_count": 11,
   "metadata": {
    "collapsed": false
   },
   "outputs": [
    {
     "data": {
      "text/plain": [
       "<tf.Tensor 'zeros_3:0' shape=(2, 3) dtype=int32>"
      ]
     },
     "execution_count": 11,
     "metadata": {},
     "output_type": "execute_result"
    }
   ],
   "source": [
    "# create a tensor of shape and all elements are zeros ==> [[0,0,0], [0,0,0]]\n",
    "tf.zeros([2, 3], tf.int32)"
   ]
  },
  {
   "cell_type": "markdown",
   "metadata": {},
   "source": [
    "\n",
    "```python\n",
    "tf.zeros_like(input_tensor, dtype=None, name=None, optimize=True)\n",
    "```\n",
    "- Creates a tensor with all elements set to zero.\n",
    "- Given a single tensor(tensor), this operation returns a tensor of the same type and shape as tensor with all elements set to zero. Optionally, you can use dtype to specify a new type for the returned tensor.\n",
    "\n",
    "**Args:**\n",
    "- input_tensor: A tensor.\n",
    "- dtype: A type for the returned tensor. Must be float32, float64, int8, int16, int32, int64, uint8, complex64, or complex128.\n",
    "- name: A name for the operation (optional)\n",
    "- optimize: if true, attempt to statically determine the shape of 'tensor' and encode it as a constant.\n",
    "\n",
    "**Returns:**\n",
    "- A tensosr with all elements set to zero.\n",
    "\n",
    "Example:"
   ]
  },
  {
   "cell_type": "code",
   "execution_count": 13,
   "metadata": {
    "collapsed": false
   },
   "outputs": [
    {
     "data": {
      "text/plain": [
       "<tf.Tensor 'zeros_like_1:0' shape=(3, 2) dtype=int32>"
      ]
     },
     "execution_count": 13,
     "metadata": {},
     "output_type": "execute_result"
    }
   ],
   "source": [
    "# Create a tensor of shape and type (unless type is specified) as the\n",
    "# input_tensor but all elements are zeros.\n",
    "\n",
    "# input_tensor is [[0, 1], [2, 3], [4, 5]] ===> [[0, 0], [0, 0], [0, 0]]\n",
    "tf.zeros_like([[0, 1], [2, 3], [4, 5]])"
   ]
  },
  {
   "cell_type": "markdown",
   "metadata": {},
   "source": [
    "```python\n",
    "tf.ones(shape, dtype=tf.float32, name=None)\n",
    "```\n",
    "- Creates a tensor with all elements set to 1.\n",
    "- This operation returns a tensor of dtype with shape *shape* and all elements set to *1*.\n",
    "\n",
    "**Args:**\n",
    "- shape: Either a list of integers, or a 1-D tensor of type int32\n",
    "- dtype: The type of an element in the resulting tensor\n",
    "- name: A name of the operation (optional)\n",
    "\n",
    "**Returns:**\n",
    "- A tensor with all elements set to 1.\n",
    "\n",
    "Example:\n"
   ]
  },
  {
   "cell_type": "code",
   "execution_count": 14,
   "metadata": {
    "collapsed": false
   },
   "outputs": [
    {
     "data": {
      "text/plain": [
       "<tf.Tensor 'ones:0' shape=(2, 3) dtype=int32>"
      ]
     },
     "execution_count": 14,
     "metadata": {},
     "output_type": "execute_result"
    }
   ],
   "source": [
    "# create a tensor of shape and all elements are ones ==> [[1,1,1], [1,1,1]]\n",
    "tf.ones([2, 3], tf.int32)"
   ]
  },
  {
   "cell_type": "markdown",
   "metadata": {},
   "source": [
    "\n",
    "```python\n",
    "tf.ones_like(input_tensor, dtype=None, name=None, optimize=True)\n",
    "```\n",
    "- Creates a tensor with all elements set to 1.\n",
    "- Given a single tensor(tensor), this operation returns a tensor of the same type and shape as tensor with all elements set to 1. Optionally, you can use dtype to specify a new type for the returned tensor.\n",
    "\n",
    "**Args:**\n",
    "- input_tensor: A tensor.\n",
    "- dtype: A type for the returned tensor. Must be float32, float64, int8, int16, int32, int64, uint8, complex64, or complex128 or bool.\n",
    "- name: A name for the operation (optional)\n",
    "- optimize: if true, attempt to statically determine the shape of 'tensor' and encode it as a constant.\n",
    "\n",
    "**Returns:**\n",
    "- A tensosr with all elements set to 1.\n",
    "\n",
    "Example:"
   ]
  },
  {
   "cell_type": "code",
   "execution_count": 15,
   "metadata": {
    "collapsed": false
   },
   "outputs": [
    {
     "data": {
      "text/plain": [
       "<tf.Tensor 'ones_like:0' shape=(3, 2) dtype=int32>"
      ]
     },
     "execution_count": 15,
     "metadata": {},
     "output_type": "execute_result"
    }
   ],
   "source": [
    "# Create a tensor of shape and type (unless type is specified) as the\n",
    "# input_tensor but all elements are ones.\n",
    "\n",
    "# input_tensor is [[0, 1], [2, 3], [4, 5]] ===> [[1, 1], [1, 1], [1, 1]]\n",
    "tf.ones_like([[0, 1], [2, 3], [4, 5]])"
   ]
  },
  {
   "cell_type": "markdown",
   "metadata": {},
   "source": [
    "```python\n",
    "tf.fill(dims, value, name=None)\n",
    "```"
   ]
  },
  {
   "cell_type": "code",
   "execution_count": 17,
   "metadata": {
    "collapsed": false
   },
   "outputs": [
    {
     "data": {
      "text/plain": [
       "<tf.Tensor 'Fill_1:0' shape=(2, 3) dtype=int32>"
      ]
     },
     "execution_count": 17,
     "metadata": {},
     "output_type": "execute_result"
    }
   ],
   "source": [
    "# Create a tensor filled with a scalar value\n",
    "# Output tensor has shape [2 ,3] and is [[8, 8, 8], [8, 8, 8]]\n",
    "tf.fill([2, 3], 8)"
   ]
  },
  {
   "cell_type": "markdown",
   "metadata": {},
   "source": [
    "Resource: [TensorFlow Docs: Constant Value Tensors ](https://www.tensorflow.org/api_docs/python/constant_op/)"
   ]
  },
  {
   "cell_type": "markdown",
   "metadata": {},
   "source": [
    "## C. Sequences\n",
    "\n",
    "```python\n",
    "tf.linspace(start, stop, num, name=None)\n",
    "```\n",
    "\n",
    "- Generates values in an interval.\n",
    "- A sequence of *num* evenly-spaced values are generated beginning at *start*. If *num > 1*, the values in the sequence increase by *stop-start / num - 1*, so that the last one is exactly stop.\n",
    "\n",
    "**Args:**\n",
    "- start: A Tensor. Must be one of the following types: float32, float64. First entry in the range.\n",
    "- stop: A Tensor. Must have the same type as start. Last entry in the range.\n",
    "- num: A Tensor. Must be one of the following types: int32, int64. Number of values to generate.\n",
    "- name: A name for the operation (optional).\n",
    "\n",
    "**Returns:**\n",
    "A Tensor. Has the same type as start. 1-D. The generated values.\n",
    "\n",
    "Example:\n"
   ]
  },
  {
   "cell_type": "code",
   "execution_count": 18,
   "metadata": {
    "collapsed": false
   },
   "outputs": [
    {
     "data": {
      "text/plain": [
       "<tf.Tensor 'linspace:0' shape=(4,) dtype=float32>"
      ]
     },
     "execution_count": 18,
     "metadata": {},
     "output_type": "execute_result"
    }
   ],
   "source": [
    "tf.linspace(10.0, 13.0, 4, name=\"linspace\")\n",
    "# output ==> [10.0, 11.0, 12.0, 13.0]"
   ]
  },
  {
   "cell_type": "markdown",
   "metadata": {},
   "source": [
    "```python\n",
    "tf.range(start, limit=None, delta=1, dtype=None, name='range')\n",
    "```\n",
    "\n",
    "- Creates a sequence of numbers.\n",
    "- Creates a sequence of numbers that begins at *start* and extends by increments of *delta* up to but not including *limit*.\n",
    "- The dtype of the resulting tensor is inferred from the inputs unless it is provided explicitly.\n",
    "- Like the Python builtin *range, start* defaults to 0, so that range(n) = range(0,n).\n",
    "\n",
    "\n",
    "```python\n",
    "# 'start' is 3\n",
    "# 'limit' is 18\n",
    "# 'delta' is 3\n",
    "tf.range(start, limit, delta) ==> [3, 6, 9, 12, 15]\n",
    "\n",
    "# 'start' is 3\n",
    "# 'limit' is 1\n",
    "# 'delta' is -0.5\n",
    "tf.range(start, limit, delta) ==> [3, 2.5, 2, 1.5]\n",
    "\n",
    "# 'limit' is 5\n",
    "tf.range(limit) ==> [0, 1, 2, 3, 4]\n",
    "```\n",
    "\n",
    "**Args:**\n",
    "\n",
    "- start: A 0-D Tensor (scalar). Acts as first entry in the range if limit is not None; otherwise, acts as range limit and first entry defaults to 0.\n",
    "- limit: A 0-D Tensor (scalar). Upper limit of sequence, exclusive. If None, defaults to the value of start while the first entry of the range defaults to 0.\n",
    "- delta: A 0-D Tensor (scalar). Number that increments start. Defaults to 1.\n",
    "- dtype: The type of the elements of the resulting tensor.\n",
    "- name: A name for the operation. Defaults to \"range\".\n",
    "\n",
    "**Returns:**\n",
    "\n",
    "- An 1-D Tensor of type dtype.\n",
    "\n",
    "\n",
    "Resource: [TensorFlow Docs: Sequences ](https://www.tensorflow.org/api_docs/python/constant_op/sequences)\n",
    "\n",
    "\n",
    "\n",
    "Note that unlike NumPy or Python sequences, TensorFlow sequences are not iterable.\n",
    "\n",
    "```python\n",
    "for _ in np.linspace(0 ,10 , 4): # OK\n",
    "for _ in tf.linspace(0, 10 , 4: # TypeError(\" 'Tensor' object is not iterable.)\n",
    "\n",
    "\n",
    "for _ in range(4): # OK\n",
    "for _ in tf.range(4) # TypeError(\" 'Tensor' object is not iterable.)\n",
    "```\n",
    "\n",
    "## D. Random Tensors\n",
    "\n",
    "TensorFlow has several ops that create random tensors with different distributions. The random ops are stateful, and create new random values each time they are evaluated.\n",
    "\n",
    "\n",
    "The seed keyword argument in these functions acts in conjuction with the graph-level random see. Changing either the graph-level seed using *set_random_seed* or the op-level seed will change the underlying seed of these operations.\n",
    "\n",
    "\n",
    "**Examples:**"
   ]
  },
  {
   "cell_type": "code",
   "execution_count": 20,
   "metadata": {
    "collapsed": false
   },
   "outputs": [],
   "source": [
    "# Create a tensor of shape [2, 3] consisting of random normal values, with\n",
    "# mean = -2  and standard deviation = 3.\n",
    "\n",
    "norm = tf.random_normal([2, 3], mean=-2, stddev=3)"
   ]
  },
  {
   "cell_type": "code",
   "execution_count": 21,
   "metadata": {
    "collapsed": true
   },
   "outputs": [],
   "source": [
    "# Shuffle the first dimension of a tensor\n",
    "c = tf.constant([[1, 2], [3, 4], [5, 6]])\n",
    "shuff = tf.random_shuffle(c)"
   ]
  },
  {
   "cell_type": "code",
   "execution_count": 27,
   "metadata": {
    "collapsed": false
   },
   "outputs": [
    {
     "name": "stdout",
     "output_type": "stream",
     "text": [
      "Norm distribution:\n",
      "[[ 5.24070692 -1.05392385 -3.33374143 -1.61721873]\n",
      " [-2.73237896 -9.52225304 -0.77112448  0.7125299 ]\n",
      " [ 2.7913394  -0.27805722 -4.52953053  2.50340843]]\n",
      "Shuffled Tensor:\n",
      "[[3 4]\n",
      " [1 2]\n",
      " [5 6]]\n"
     ]
    }
   ],
   "source": [
    "# Each time we run these ops, different results are generated\n",
    "with tf.Session() as sess:\n",
    "    print \"Norm distribution:\\n\",sess.run(norm)\n",
    "    print \"Shuffled Tensor:\\n\", sess.run(shuff)"
   ]
  },
  {
   "cell_type": "code",
   "execution_count": 30,
   "metadata": {
    "collapsed": false
   },
   "outputs": [
    {
     "name": "stdout",
     "output_type": "stream",
     "text": [
      "Norm distribution:\n",
      "[[ 0.51340485 -0.25581399  0.65199131]\n",
      " [ 1.39236379  0.37256798  0.20336303]]\n",
      "Norm distribution:\n",
      "[[ 0.96462417  0.34291974  0.24251089]\n",
      " [ 1.05785966  1.65749764  0.82108968]]\n",
      "Norm distribution:\n",
      "[[ 0.51340485 -0.25581399  0.65199131]\n",
      " [ 1.39236379  0.37256798  0.20336303]]\n",
      "Norm distribution:\n",
      "[[ 0.96462417  0.34291974  0.24251089]\n",
      " [ 1.05785966  1.65749764  0.82108968]]\n"
     ]
    }
   ],
   "source": [
    "# Set an op-level seed to generate repeatable sequences across sessions.\n",
    "norm = tf.random_normal([2, 3], seed=1234)\n",
    "\n",
    "with tf.Session() as sess:\n",
    "    print \"Norm distribution:\\n\",sess.run(norm)\n",
    "    print \"Norm distribution:\\n\",sess.run(norm)\n",
    "    \n",
    "with tf.Session() as sess:\n",
    "    print \"Norm distribution:\\n\",sess.run(norm)\n",
    "    print \"Norm distribution:\\n\",sess.run(norm)\n",
    "    \n"
   ]
  },
  {
   "cell_type": "markdown",
   "metadata": {},
   "source": [
    "Another common use of random values is the initialization of variables."
   ]
  },
  {
   "cell_type": "code",
   "execution_count": 32,
   "metadata": {
    "collapsed": false
   },
   "outputs": [
    {
     "name": "stdout",
     "output_type": "stream",
     "text": [
      "[[ 0.40427649  0.34492314  0.3371985 ]\n",
      " [ 0.30020392  0.29730201  0.65222573]]\n"
     ]
    }
   ],
   "source": [
    "# Use random uniform values in [0, 1) as the initializer for a variable of shape\n",
    "# [2, 3]. The default type is float32.\n",
    "var = tf.Variable(tf.random_uniform([2, 3]), name=\"var\")\n",
    "\n",
    "# Add an op to initialize the variables\n",
    "init = tf.initialize_all_variables()\n",
    "\n",
    "with tf.Session() as sess:\n",
    "    # Run the init operation \n",
    "    sess.run(init)\n",
    "    \n",
    "    # Use the variable/model\n",
    "    print sess.run(var)\n",
    "\n"
   ]
  },
  {
   "cell_type": "markdown",
   "metadata": {},
   "source": [
    "For more detail, Check out [TensorFlow Documentation](https://www.tensorflow.org/api_docs/python/constant_op/random_tensors)"
   ]
  },
  {
   "cell_type": "markdown",
   "metadata": {},
   "source": [
    "## E. Math Operations\n",
    "\n",
    "TensorFlow math ops are pretty standard, quite similar to Numpy. \n",
    "\n",
    "TensorFlow has:\n",
    "![](assets/tfm1.png)\n",
    "![](assets/tfm2.png)\n",
    "![](assets/tfm3.png)\n",
    "![](assets/tfm4.png)\n",
    "![](assets/tfm5.png)\n",
    "![](assets/tfm6.png)\n",
    "\n"
   ]
  },
  {
   "cell_type": "markdown",
   "metadata": {},
   "source": [
    "## F. Data Types\n",
    "\n",
    "![](assets/datatypes.png)\n",
    "Source:[TensorFlow's Official Docs](https://www.tensorflow.org/versions/r0.11/resources/dims_types)"
   ]
  },
  {
   "cell_type": "markdown",
   "metadata": {},
   "source": []
  }
 ],
 "metadata": {
  "anaconda-cloud": {},
  "kernelspec": {
   "display_name": "Python [conda env:tensorflow2.7]",
   "language": "python",
   "name": "conda-env-tensorflow2.7-py"
  },
  "language_info": {
   "codemirror_mode": {
    "name": "ipython",
    "version": 2
   },
   "file_extension": ".py",
   "mimetype": "text/x-python",
   "name": "python",
   "nbconvert_exporter": "python",
   "pygments_lexer": "ipython2",
   "version": "2.7.13"
  }
 },
 "nbformat": 4,
 "nbformat_minor": 1
}
