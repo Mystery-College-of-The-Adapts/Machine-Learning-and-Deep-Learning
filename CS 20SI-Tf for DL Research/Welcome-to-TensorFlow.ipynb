{
 "cells": [
  {
   "cell_type": "markdown",
   "metadata": {},
   "source": [
    "Topics\n",
    "----------\n",
    "1. Overview of TensorFlow\n",
    "2. Graphs and Sessions\n",
    "\n",
    "\n",
    "\n",
    "# Graphs and Sessions\n",
    "\n",
    "## Data Flow Graphs\n",
    "TensorFlow separates definition of computations from their execution\n",
    "- Phase 1: Assemble a graph\n",
    "- Phase 2: use a session to execute operations in the graph\n",
    "![](assets/Selection_001.png)\n",
    "\n",
    "## What is a tensor?\n",
    "An n-dimensional matrix\n",
    "- o-d tensor: scalar\n",
    "- 1-d tensor: vector\n",
    "- 2-d tensor: matrix\n",
    "- and so on"
   ]
  },
  {
   "cell_type": "code",
   "execution_count": 1,
   "metadata": {
    "collapsed": false
   },
   "outputs": [],
   "source": [
    "import tensorflow as tf"
   ]
  },
  {
   "cell_type": "code",
   "execution_count": 2,
   "metadata": {
    "collapsed": true
   },
   "outputs": [],
   "source": [
    "a = tf.add(3,5)"
   ]
  },
  {
   "cell_type": "markdown",
   "metadata": {},
   "source": [
    "![](assets/Selection_002.png)\n",
    "\n",
    "why x, y?\n",
    "TF automatically names the nodes when you don't explicitly name them. \n",
    "\n",
    "- x = 3\n",
    "- y = 5\n",
    "\n",
    "![](assets/Selection_003.png)\n",
    "- **Nodes** are operators, variables, and constants\n",
    "- **Edges** are tensors\n",
    "- **Tensors** are data.  ---Data Flow -> Tensor FLow (Aha moment)"
   ]
  },
  {
   "cell_type": "code",
   "execution_count": 3,
   "metadata": {
    "collapsed": false
   },
   "outputs": [
    {
     "name": "stdout",
     "output_type": "stream",
     "text": [
      "Tensor(\"Add:0\", shape=(), dtype=int32)\n"
     ]
    }
   ],
   "source": [
    "print a"
   ]
  },
  {
   "cell_type": "markdown",
   "metadata": {},
   "source": [
    "**Note**: (Not 5)\n",
    "\n",
    "## How to get the value of a?\n",
    "- Create a **Session**, assign it to variable sess so we can call it later\n",
    "- Within the Session, evaluate the graph to fetch the value of a"
   ]
  },
  {
   "cell_type": "code",
   "execution_count": 4,
   "metadata": {
    "collapsed": false
   },
   "outputs": [
    {
     "name": "stdout",
     "output_type": "stream",
     "text": [
      "8\n"
     ]
    }
   ],
   "source": [
    "sess = tf.Session()\n",
    "print sess.run(a)\n",
    "sess.close()"
   ]
  },
  {
   "cell_type": "markdown",
   "metadata": {},
   "source": [
    "The session will look at the graph, trying to think: hmm, how can I get the value of a, then it computes all the nodes that leads to a\n",
    "\n",
    "![](assets/Selection_004.png)"
   ]
  },
  {
   "cell_type": "code",
   "execution_count": 5,
   "metadata": {
    "collapsed": false
   },
   "outputs": [
    {
     "name": "stdout",
     "output_type": "stream",
     "text": [
      "18\n"
     ]
    }
   ],
   "source": [
    "b = tf.add(3 ,15)\n",
    "with tf.Session() as sess:\n",
    "    print sess.run(b)"
   ]
  },
  {
   "cell_type": "markdown",
   "metadata": {},
   "source": [
    "## More Graphs\n",
    "![](assets/Selection_005.png)"
   ]
  },
  {
   "cell_type": "code",
   "execution_count": 6,
   "metadata": {
    "collapsed": true
   },
   "outputs": [],
   "source": [
    "x = 2\n",
    "y = 3\n",
    "op1 = tf.add(x, y)\n",
    "op2 = tf.mul(x, y)\n",
    "op3 = tf.pow(op2, op1)"
   ]
  },
  {
   "cell_type": "code",
   "execution_count": 7,
   "metadata": {
    "collapsed": false
   },
   "outputs": [
    {
     "name": "stdout",
     "output_type": "stream",
     "text": [
      "7776\n"
     ]
    }
   ],
   "source": [
    "with tf.Session() as sess:\n",
    "    op3 = sess.run(op3)\n",
    "    print op3"
   ]
  },
  {
   "cell_type": "markdown",
   "metadata": {},
   "source": [
    "## More (sub) graphs\n",
    "![](assets/Selection_006.png)\n",
    "- Because we only want the value of z and z doesn't depend on useless, session won't compute values of useless\n",
    "-> save computation"
   ]
  },
  {
   "cell_type": "code",
   "execution_count": 8,
   "metadata": {
    "collapsed": true
   },
   "outputs": [],
   "source": [
    "x = 5\n",
    "y = 2\n",
    "op1 = tf.add(x, y)\n",
    "op2 = tf.mul(x ,y)\n",
    "useless = tf.mul(x, op1)\n",
    "op3 = tf.pow(op2 , op1)"
   ]
  },
  {
   "cell_type": "code",
   "execution_count": 9,
   "metadata": {
    "collapsed": false
   },
   "outputs": [
    {
     "name": "stdout",
     "output_type": "stream",
     "text": [
      "10000000\n"
     ]
    }
   ],
   "source": [
    "with tf.Session() as sess:\n",
    "    op3 = sess.run(op3)\n",
    "    print op3"
   ]
  },
  {
   "cell_type": "markdown",
   "metadata": {},
   "source": [
    "![](assets/Selection_006.png)\n",
    "```python \n",
    "tf.Session.run(fetches, feed_dict=None, options=None, run_metadata=None)\n",
    "```\n",
    "- Pass all variables whose values you wnat to a list in fetches\n"
   ]
  },
  {
   "cell_type": "code",
   "execution_count": 10,
   "metadata": {
    "collapsed": true
   },
   "outputs": [],
   "source": [
    "x = 2 \n",
    "y = 3\n",
    "op1 = tf.add(x, y)\n",
    "op2 = tf.mul(x, y)\n",
    "useless = tf.mul(x, op1)\n",
    "op3 = tf.pow(op2 , op1)\n"
   ]
  },
  {
   "cell_type": "code",
   "execution_count": 11,
   "metadata": {
    "collapsed": false
   },
   "outputs": [
    {
     "name": "stdout",
     "output_type": "stream",
     "text": [
      "7776 10\n"
     ]
    }
   ],
   "source": [
    "with tf.Session() as sess:\n",
    "    op3, not_useless = sess.run([op3, useless])\n",
    "    print op3,\n",
    "    print not_useless"
   ]
  },
  {
   "cell_type": "markdown",
   "metadata": {},
   "source": [
    "## More(sub) graphs\n",
    "![](assets/Selection_007.png)\n",
    "Possible to break graphs into several chunks and run them parallelly across multiple CPUs, GPUs, or devices.\n",
    "\n",
    "```python\n",
    "# Creates a graph.\n",
    "with tf.device('gpu:2'):\n",
    "    a = tf.constant([1.0, 2.0, 3.0, 4.0, 5.0, 6.0], name ='a')\n",
    "    b = tf.constant([1.0, 2.0, 3.0, 4.0, 5.0, 6.0], name ='b')\n",
    "    c = tf.matmul(a, b)\n",
    "    \n",
    "# Creates a session with log_device_placement set to True.\n",
    "sess = tf.Session(config=tf.ConfigProto(log_device_placement=True))\n",
    "\n",
    "# Runs the op.\n",
    "print sess.run(c)\n",
    "\n",
    "```\n",
    "\n",
    "What if I want to build more than one graph? You can but you don't need more than one graph The session runs the default graph.\n",
    "\n",
    "But what if I really want to ?\n",
    "\n",
    "- Multiple graphs require multiple sessions, each will try to use all available resources by default\n",
    "- Can't pass data between them without passing them through python/numpy, which doesn't work in distributed\n",
    "- It's better to have disconnected subgraphs within one graph\n",
    "\n",
    "\n",
    "## tf.Graph()"
   ]
  },
  {
   "cell_type": "code",
   "execution_count": 12,
   "metadata": {
    "collapsed": true
   },
   "outputs": [],
   "source": [
    "# create a graph\n",
    "g = tf.Graph()\n",
    "\n",
    "# To add operators to a graph, set it as default:\n",
    "with g.as_default():\n",
    "    x = tf.add(3, 5)"
   ]
  },
  {
   "cell_type": "code",
   "execution_count": 13,
   "metadata": {
    "collapsed": false
   },
   "outputs": [
    {
     "name": "stdout",
     "output_type": "stream",
     "text": [
      "8\n"
     ]
    }
   ],
   "source": [
    "sess = tf.Session(graph=g)\n",
    "with tf.Session(graph=g) as sess:\n",
    "    print sess.run(x)"
   ]
  },
  {
   "cell_type": "code",
   "execution_count": 14,
   "metadata": {
    "collapsed": true
   },
   "outputs": [],
   "source": [
    "g = tf.Graph()\n",
    "with g.as_default():\n",
    "    a = 3\n",
    "    b = 5\n",
    "    x = tf.add(a, b)\n"
   ]
  },
  {
   "cell_type": "code",
   "execution_count": 15,
   "metadata": {
    "collapsed": true
   },
   "outputs": [],
   "source": [
    "# session is run on the graph g\n",
    "sess = tf.Session(graph=g)\n",
    "\n",
    "# run session\n",
    "sess.close()\n"
   ]
  },
  {
   "cell_type": "code",
   "execution_count": 16,
   "metadata": {
    "collapsed": true
   },
   "outputs": [],
   "source": [
    "# Do not mix default graph and user created graphs\n",
    "g = tf.Graph()\n",
    "\n",
    "# add ops to the default graph\n",
    "a = tf.constant(3)\n",
    "\n",
    "# add ops to the user created graph\n",
    "with g.as_default():\n",
    "    \n",
    "    b = tf.constant(5)"
   ]
  },
  {
   "cell_type": "markdown",
   "metadata": {},
   "source": [
    "## Why Graphs\n",
    "\n",
    "1. Save computation (only run subgraphs that lead to the values you want to fetch)\n",
    "2. Break Computation into small, differential pieces to facilitates auto-differentiation\n",
    "3. Facilitate distributed computation, spread the work across multiple CPUs, GPUs, or devices\n",
    "4. Many Common machine learning models are commonly taught and visualized as directed graphs already."
   ]
  }
 ],
 "metadata": {
  "anaconda-cloud": {},
  "kernelspec": {
   "display_name": "Python [conda env:tensorflow2.7]",
   "language": "python",
   "name": "conda-env-tensorflow2.7-py"
  },
  "language_info": {
   "codemirror_mode": {
    "name": "ipython",
    "version": 2
   },
   "file_extension": ".py",
   "mimetype": "text/x-python",
   "name": "python",
   "nbconvert_exporter": "python",
   "pygments_lexer": "ipython2",
   "version": "2.7.13"
  }
 },
 "nbformat": 4,
 "nbformat_minor": 1
}
