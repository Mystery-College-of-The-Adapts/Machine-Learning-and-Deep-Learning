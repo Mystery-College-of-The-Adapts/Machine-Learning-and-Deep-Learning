{
 "cells": [
  {
   "cell_type": "markdown",
   "metadata": {},
   "source": [
    "Topics\n",
    "--------\n",
    "1. Basic Operations\n",
    "2. Tensor types\n",
    "3. Project speed dating\n",
    "4. Placeholders and feeding inputs\n",
    "5. Lazy loading\n",
    "\n",
    "\n",
    "\n",
    "## A. Fun with TensorBoard\n",
    "In Tensorflow, you collectively call constants, variables, operators as ops. ensorFlow is not justba software library, but a suite of softwares that include TensorFlow, TensorBoard, and TensorServing. To make the most out of TensorFlow, we should know how to use all of the above in conjunction with one another.\n",
    "\n",
    "According to [Google's TensorFlow Team](https://www.tensorflow.org/how_tos/summaries_and_tensorboard/):\n",
    "> The computations you'll use TensorFlow for - like training a massive deep neural network - can be complex and confusing. To make it easier to understand, debug, and optimize TensorFlow programs, we've included a suite of visualization tools called TensorBoard. You can use TensorBoard to visualize your TensorFlow graph, plot quantitative metrics about the execution of your graph, and show additional data like images that pass through it. When TensorBoard is fully configured, it looks like this:\n",
    "![](assets/tensorboard.png)\n",
    "\n",
    "\n",
    "When a user perform certain operations in a TensorBoard-activated TensorFlow program, these operations are exported to an event file. \n",
    "\n",
    "TensorBoard is able to convert these event files to graphs that can give insight into a model's behavior.\n",
    "\n",
    "Learning to use TensorBoard early and often make working with TensorFlow that much more enjoyable and productive.\n",
    "\n",
    "Let's write our first TensorFlow program and visualize it with TensorBoard.\n"
   ]
  },
  {
   "cell_type": "code",
   "execution_count": 1,
   "metadata": {
    "collapsed": true
   },
   "outputs": [],
   "source": [
    "import tensorflow as tf"
   ]
  },
  {
   "cell_type": "code",
   "execution_count": 2,
   "metadata": {
    "collapsed": false
   },
   "outputs": [
    {
     "name": "stdout",
     "output_type": "stream",
     "text": [
      "5\n"
     ]
    }
   ],
   "source": [
    "a = tf.constant(2)\n",
    "b = tf.constant(3)\n",
    "x = tf.add(a, b)\n",
    "\n",
    "with tf.Session() as sess:\n",
    "    print sess.run(x)"
   ]
  },
  {
   "cell_type": "markdown",
   "metadata": {},
   "source": [
    "To activate TensorBoard on this program, add this line after building the graph, right before running the train loop. \n",
    "```python\n",
    "writer = tf.summary.FileWriter(logs_dir, sess.graph)\n",
    "```\n",
    "\n",
    "The line above creates a writer object to write operations to the event file, stored in the folder logs_dir. You can choose logs_dir to be something such as './graphs'.\n",
    "\n",
    "\n",
    "**Visualize it with TensorBoard**"
   ]
  },
  {
   "cell_type": "code",
   "execution_count": 3,
   "metadata": {
    "collapsed": false
   },
   "outputs": [
    {
     "name": "stdout",
     "output_type": "stream",
     "text": [
      "5\n"
     ]
    }
   ],
   "source": [
    "with tf.Session() as sess:\n",
    "    # add this line to use TensorBoard.\n",
    "    writer = tf.train.SummaryWriter('./graphs', sess.graph)\n",
    "    print sess.run(x)\n",
    "    \n",
    "    \n",
    "# Closet the writer when you are done using it\n",
    "writer.close()"
   ]
  },
  {
   "cell_type": "markdown",
   "metadata": {},
   "source": [
    "Next, go to terminal, run the program. Make sure that your present working directory is the same as where your python file or jupyter notebook is located at.\n",
    "\n",
    "```bash\n",
    "$ tensorboard --logdir=\"./graphs\"\n",
    "```"
   ]
  },
  {
   "cell_type": "markdown",
   "metadata": {},
   "source": [
    "Open your browser and go to http://localhost:6006/(or the linkyou get back after running tensorboard command). Go to the tab graph and you will see something like this:\n",
    "\n",
    "![](assets/TensorBoard.png)\n",
    "\n",
    "Go to the Graph tab and you will see a graph with 3 nodes \n",
    "![](assets/Tgraph1.png)\n",
    "\n",
    "```python\n",
    "a = tf.constant(2)\n",
    "b = tf.constant(3)\n",
    "x = tf.add(a, b)\n",
    "```\n",
    "\n",
    "**Const** and **Const_1** corresponds to a and b, while the node **Add** corresponds to x. The names we give them (a, b, and x) are for us to access them when we need. They mean nothing for the internal TensorFlow. To make TensorBoard display the names of your ops, you have to explicitly name them."
   ]
  },
  {
   "cell_type": "code",
   "execution_count": 4,
   "metadata": {
    "collapsed": true
   },
   "outputs": [],
   "source": [
    "a = tf.constant([2, 2], name=\"a\")\n",
    "b = tf.constant([3, 6], name=\"b\")\n",
    "x = tf.add(a, b, name = \"add\")"
   ]
  },
  {
   "cell_type": "markdown",
   "metadata": {},
   "source": [
    "Now if you run TensorBoard again, you get the following:"
   ]
  },
  {
   "cell_type": "code",
   "execution_count": 5,
   "metadata": {
    "collapsed": false
   },
   "outputs": [
    {
     "name": "stdout",
     "output_type": "stream",
     "text": [
      "[5 8]\n"
     ]
    }
   ],
   "source": [
    "with tf.Session() as sess:\n",
    "    # add this line to use TensorBoard.\n",
    "    writer = tf.train.SummaryWriter('./graphs', sess.graph)\n",
    "    print sess.run(x)\n",
    "    \n",
    "    \n",
    "# Closet the writer when you are done using it\n",
    "writer.close()"
   ]
  },
  {
   "cell_type": "markdown",
   "metadata": {},
   "source": [
    "![](assets/Tgraph2.png)\n",
    "\n",
    "\n",
    "The graph itself defines the ops and dependencies, but not displays the values. It only cares about the values when we run the session with some values to fetch in mind."
   ]
  }
 ],
 "metadata": {
  "anaconda-cloud": {},
  "kernelspec": {
   "display_name": "Python [conda env:tensorflow2.7]",
   "language": "python",
   "name": "conda-env-tensorflow2.7-py"
  },
  "language_info": {
   "codemirror_mode": {
    "name": "ipython",
    "version": 2
   },
   "file_extension": ".py",
   "mimetype": "text/x-python",
   "name": "python",
   "nbconvert_exporter": "python",
   "pygments_lexer": "ipython2",
   "version": "2.7.13"
  }
 },
 "nbformat": 4,
 "nbformat_minor": 1
}
