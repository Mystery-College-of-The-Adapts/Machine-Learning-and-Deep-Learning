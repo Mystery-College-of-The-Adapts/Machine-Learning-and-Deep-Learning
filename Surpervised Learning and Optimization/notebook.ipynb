{
 "cells": [
  {
   "cell_type": "markdown",
   "metadata": {},
   "source": [
    "Linear Regression\n",
    "===================\n",
    "## Problem Formulation\n",
    "- Goal:\n",
    "    - Predict a target value y starting from a vector of input values $$x\\in \\mathbb{R}^{n}.$$\n",
    "    - For example, make predictions about the price of a house so that $y$ represents the price of the house in dollars and the elements $x_{j}$ of $x$ represent \"features\" that describe the house(such as its size and the number of the number of bedrooms).\n",
    "    - Find a function $y=h(x)$ so that we have $y^{(i)}\\approx h(x^{(i)})$ for each training example.\n",
    " \n",
    "- Linear function: $h_{\\theta}(x) = \\Sigma _{j} \\theta _{j}x_{j} = \\theta^{T}x$\n",
    "- In particular, we will search for a choice of $\\theta$ that minimizes:\n",
    "\n",
    "#### Cost Function: \n",
    "$$J(\\theta)=\\frac{1}{2}\\sum_{i}(h_{\\theta}(x^{(i)})-y^{(i)})^{2}=\\frac{1}{2}\\sum_{i}(\\theta^Tx^{(i)} - y^{(i)})^{2}$$ \n",
    "\n",
    "## Function Minimization\n",
    "- We now want to find the choice of $\\theta$ that minimizes $J(\\theta)$ as given above.\n",
    "- There are many algorithms for minimizing functions like this one.\n",
    "\n",
    "#### Gradient Descent\n",
    "- Compute $J(\\theta)$ and $\\bigtriangledown _{\\theta}J(\\theta)$ for each $\\theta$.\n",
    "- $$\\bigtriangledown _{\\theta}J(\\theta) = \\begin{bmatrix}\n",
    "\\frac{\\partial J(\\theta)}{\\partial \\theta_1}\\\\ \n",
    "\\frac{\\partial J(\\theta)}{\\partial \\theta_2}\\\\ \n",
    "\\vdots \\\\  \n",
    "\\frac{\\partial J(\\theta)}{\\partial \\theta_n}\n",
    "\\end{bmatrix}$$\n",
    "\n",
    "- Differentiating the cost function $J(\\theta)$ with respect to a particular parameter $\\theta_j$ is given by:\n",
    "$$\\frac{\\partial J(\\theta)}{\\partial \\theta_j}=\\sum_{i}x^{(i)}_j(h_\\theta(x^{(i)}) - y^{(i)})$$"
   ]
  },
  {
   "cell_type": "code",
   "execution_count": null,
   "metadata": {
    "collapsed": true
   },
   "outputs": [],
   "source": []
  }
 ],
 "metadata": {
  "kernelspec": {
   "display_name": "Python [conda root]",
   "language": "python",
   "name": "conda-root-py"
  },
  "language_info": {
   "codemirror_mode": {
    "name": "ipython",
    "version": 2
   },
   "file_extension": ".py",
   "mimetype": "text/x-python",
   "name": "python",
   "nbconvert_exporter": "python",
   "pygments_lexer": "ipython2",
   "version": "2.7.12"
  }
 },
 "nbformat": 4,
 "nbformat_minor": 1
}
