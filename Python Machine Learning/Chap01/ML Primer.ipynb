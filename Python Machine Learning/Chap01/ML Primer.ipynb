{
 "cells": [
  {
   "cell_type": "markdown",
   "metadata": {},
   "source": [
    "#### Three different types of machine learning\n",
    "- Unspervised learning\n",
    "- Supervised learning\n",
    "- Reinforcement learning\n",
    "\n",
    "##### 1. Supervised learning\n",
    "**Goal:** To learn a model from labeled **training data** that allows us to make predictions about unseen or future data.\n",
    "\n",
    "**Subcategories:**\n",
    "- Classification\n",
    "- Regression\n",
    "\n",
    "##### 2. Reinforcement learning\n",
    "**Goal:** To develop a system that improves its performance based on interactions with the environment.\n",
    "\n",
    "![alt text](reinforcement.JPG \"Reinforcement Learning\")\n",
    "**Example:** a chess engine\n",
    "\n",
    "\n",
    "##### 3. Unsupervised learning\n",
    "- Dealing with **unknown structure**\n",
    "- **Clustering**\n",
    "    - exploratory data analysis technique\n",
    "    - allows us to organize a pile of information into clusters\n",
    "    - Each cluster defines a group of objects that share a certain degree of similarity but are more dissimilar to objects in other clusters.\n",
    "    - Sometimes called **Unsupervised classification**\n",
    "    \n",
    "   ![alt text](clustering.JPG \"Clustering\")\n",
    "   \n",
    "   \n",
    "   \n",
    "   \n",
    "#### Roadmap for BMLS\n",
    " ![alt text](road.JPG \"Roadmap for building machine learning systems\")"
   ]
  },
  {
   "cell_type": "code",
   "execution_count": null,
   "metadata": {
    "collapsed": false
   },
   "outputs": [],
   "source": []
  },
  {
   "cell_type": "code",
   "execution_count": null,
   "metadata": {
    "collapsed": false
   },
   "outputs": [],
   "source": []
  },
  {
   "cell_type": "code",
   "execution_count": null,
   "metadata": {
    "collapsed": true
   },
   "outputs": [],
   "source": []
  }
 ],
 "metadata": {
  "anaconda-cloud": {},
  "kernelspec": {
   "display_name": "Python [conda root]",
   "language": "python",
   "name": "conda-root-py"
  },
  "language_info": {
   "codemirror_mode": {
    "name": "ipython",
    "version": 2
   },
   "file_extension": ".py",
   "mimetype": "text/x-python",
   "name": "python",
   "nbconvert_exporter": "python",
   "pygments_lexer": "ipython2",
   "version": "2.7.12"
  }
 },
 "nbformat": 4,
 "nbformat_minor": 1
}
